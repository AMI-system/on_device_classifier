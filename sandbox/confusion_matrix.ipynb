{
 "cells": [
  {
   "cell_type": "markdown",
   "id": "2a412d6c-e693-4f8f-bc5b-1508e889640c",
   "metadata": {},
   "source": [
    "# Load in the confusion matrix"
   ]
  },
  {
   "cell_type": "code",
   "execution_count": null,
   "id": "f3560b4a-2f02-48f0-9d08-24b5a78778c4",
   "metadata": {},
   "outputs": [],
   "source": [
    "import pandas as pd\n",
    "from sklearn.metrics import accuracy_score, confusion_matrix\n",
    "import matplotlib.pyplot as plt\n",
    "import seaborn as sns\n",
    "from matplotlib import gridspec\n",
    "import numpy as np"
   ]
  },
  {
   "cell_type": "code",
   "execution_count": null,
   "id": "27a01d08-b4fd-43e1-b938-3dbaaaa99ca8",
   "metadata": {},
   "outputs": [],
   "source": [
    "df = pd.read_csv(\"../../outputs/v01_confusion-data.csv\")\n",
    "labels = pd.read_json('/bask/homes/f/fspo1218/amber/data/gbif_costarica/01_costarica_data_numeric_labels.json', typ='series')"
   ]
  },
  {
   "cell_type": "code",
   "execution_count": null,
   "id": "85fe226a-f031-42d7-bbe7-99a7ebc2bd66",
   "metadata": {},
   "outputs": [],
   "source": [
    "df.head()"
   ]
  },
  {
   "cell_type": "markdown",
   "id": "cc404aaf-de2c-4ec8-a2e3-2992236ad9d5",
   "metadata": {},
   "source": [
    "**Key 🗝️**\n",
    "\n",
    "F= family; \n",
    "G= genus; \n",
    "S=species"
   ]
  },
  {
   "cell_type": "code",
   "execution_count": null,
   "id": "85bf0bd6-620d-493d-bf7e-8b3ae9693b5e",
   "metadata": {},
   "outputs": [],
   "source": [
    "# Calculate accuracy\n",
    "accuracy = accuracy_score(df['F_Truth'], df['F_Prediction'])\n",
    "print(f'Family Accuracy: {accuracy:.4f}')\n",
    "\n",
    "accuracy = accuracy_score(df['G_Truth'], df['G_Prediction'])\n",
    "print(f'Genus Accuracy: {accuracy:.4f}')\n",
    "\n",
    "accuracy = accuracy_score(df['S_Truth'], df['S_Prediction'])\n",
    "print(f'Species Accuracy: {accuracy:.4f}')"
   ]
  },
  {
   "cell_type": "code",
   "execution_count": null,
   "id": "af03d034-62a8-442f-a5fa-76db7c785d4f",
   "metadata": {},
   "outputs": [],
   "source": [
    "s_lab = labels['species_list']\n",
    "g_lab = labels['genus_list']\n",
    "f_lab = labels['family_list']\n",
    "\n",
    "s_lab = {index: label for index, label in enumerate(s_lab)}\n",
    "g_lab = {index: label for index, label in enumerate(g_lab)}\n",
    "f_lab = {index: label for index, label in enumerate(f_lab)}"
   ]
  },
  {
   "cell_type": "code",
   "execution_count": null,
   "id": "6293ff8d-0eed-47ff-a381-a3274a445d94",
   "metadata": {},
   "outputs": [],
   "source": [
    "df['species_truth'] = df['S_Truth'].map(s_lab)\n",
    "df['species_prediction'] = df['S_Prediction'].map(s_lab)\n",
    "\n",
    "df['genus_truth'] = df['G_Truth'].map(g_lab)\n",
    "df['genus_prediction'] = df['G_Prediction'].map(g_lab)\n",
    "\n",
    "df['family_truth'] = df['F_Truth'].map(f_lab)\n",
    "df['family_prediction'] = df['F_Prediction'].map(f_lab)"
   ]
  },
  {
   "cell_type": "code",
   "execution_count": null,
   "id": "84ba8a29-f4b6-4b3e-8883-32b218d29432",
   "metadata": {},
   "outputs": [],
   "source": [
    "from matplotlib.colors import LogNorm, Normalize\n",
    "from matplotlib.ticker import MaxNLocator\n",
    "\n",
    "\n",
    "def confusion_matrix_kg(tax_type=\"species\"):\n",
    "    cm = confusion_matrix(df[(tax_type[0]).upper() + '_Truth'], df[(tax_type[0]).upper() + '_Prediction'])\n",
    "    plt.figure(figsize=(8, 6))\n",
    "    sns.heatmap(cm, annot=False, fmt='d', cmap='Blues', cbar=True, norm=LogNorm(),\n",
    "                xticklabels=df[tax_type + '_truth'].unique(),\n",
    "                yticklabels=df[tax_type + '_truth'].unique())\n",
    "    plt.xlabel('Predicted')\n",
    "    plt.ylabel('Actual')\n",
    "    plt.title('Confusion Matrix')\n",
    "    plt.show()"
   ]
  },
  {
   "cell_type": "code",
   "execution_count": null,
   "id": "1417bbed-c1bf-4e22-9f89-32853be530c0",
   "metadata": {},
   "outputs": [],
   "source": [
    "confusion_matrix_kg(\"family\")"
   ]
  },
  {
   "cell_type": "code",
   "execution_count": null,
   "id": "fc46a8a2-b079-4491-87c6-cf9149d5d8a1",
   "metadata": {},
   "outputs": [],
   "source": [
    "confusion_matrix_kg(\"genus\")"
   ]
  },
  {
   "cell_type": "code",
   "execution_count": null,
   "id": "7aff1aea-cbac-4794-abee-4dbbd0569409",
   "metadata": {},
   "outputs": [],
   "source": [
    "confusion_matrix_kg(\"species\")"
   ]
  },
  {
   "cell_type": "code",
   "execution_count": null,
   "id": "29537076-c177-47a7-bd47-15ac846ba774",
   "metadata": {},
   "outputs": [],
   "source": [
    "def labelled_heatmap(tax_type):\n",
    "\n",
    "    conf_matrix = pd.crosstab(df[tax_type + '_truth'], df[tax_type + '_prediction'], \n",
    "                              rownames=['Actual'], colnames=['Prediction'], dropna=False)\n",
    "\n",
    "    mapping_dict = df.set_index(tax_type + '_truth')['family_truth'].to_dict()\n",
    "    labels = conf_matrix.index.map(mapping_dict) #np.random.random_integers(0,5, size=matrix.shape[0])\n",
    "    lut = dict(zip(set(labels), sns.hls_palette(len(set(labels)), l=0.5, s=0.8)))\n",
    "    row_colors = (labels).map(lut)\n",
    "\n",
    "    g=sns.clustermap(conf_matrix, col_cluster=True, row_cluster=True, linewidths=0.1, \n",
    "                     norm=LogNorm(), dendrogram_ratio=0.1,\n",
    "                     cmap='Blues', row_colors=[row_colors])\n",
    "    plt.show()"
   ]
  },
  {
   "cell_type": "code",
   "execution_count": null,
   "id": "7ce505bc-6f5f-4dd2-a6d3-163013be4796",
   "metadata": {},
   "outputs": [],
   "source": [
    "labelled_heatmap('genus')"
   ]
  },
  {
   "cell_type": "code",
   "execution_count": null,
   "id": "e96e0361-0883-4038-9cf7-f3ea7f662d00",
   "metadata": {},
   "outputs": [],
   "source": [
    "labelled_heatmap('species')"
   ]
  }
 ],
 "metadata": {
  "kernelspec": {
   "display_name": "kg_conda_env2 (Conda)",
   "language": "python",
   "name": "sys_kg_conda_env2"
  },
  "language_info": {
   "codemirror_mode": {
    "name": "ipython",
    "version": 3
   },
   "file_extension": ".py",
   "mimetype": "text/x-python",
   "name": "python",
   "nbconvert_exporter": "python",
   "pygments_lexer": "ipython3",
   "version": "3.9.17"
  }
 },
 "nbformat": 4,
 "nbformat_minor": 5
}
