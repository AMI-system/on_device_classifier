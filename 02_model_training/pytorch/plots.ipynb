{
 "cells": [
  {
   "cell_type": "code",
   "execution_count": null,
   "metadata": {},
   "outputs": [],
   "source": [
    "import json\n",
    "import pandas as pd\n",
    "import numpy as np\n",
    "import matplotlib.pyplot as plt\n",
    "import seaborn as sns\n",
    "import os\n",
    "import re"
   ]
  },
  {
   "cell_type": "markdown",
   "metadata": {},
   "source": [
    "# Data counts (image counts)"
   ]
  },
  {
   "cell_type": "code",
   "execution_count": null,
   "metadata": {},
   "outputs": [],
   "source": [
    "# read in the csv\n",
    "import pandas as pd\n",
    "import numpy as np\n",
    "\n",
    "df = pd.read_csv('/bask/homes/f/fspo1218/amber/data/gbif_macro_data/gbif_macro/datacount.csv')\n",
    "df.head()"
   ]
  },
  {
   "cell_type": "code",
   "execution_count": null,
   "metadata": {},
   "outputs": [],
   "source": [
    "# create a histogram of the counts\n",
    "import matplotlib.pyplot as plt\n",
    "\n",
    "fig, ax = plt.subplots(1, 2, figsize=(15, 3))\n",
    "\n",
    "ax[0].hist(df['count'], bins=20)\n",
    "ax[0].set_title('Counts of species images downloaded (990 species total)')\n",
    "ax[0].set_xlabel('Number of images collected')\n",
    "ax[0].set_ylabel('Counts')\n",
    "\n",
    "\n",
    "ax[1].hist(df.loc[df['count'] < 100, 'count'], bins=20)\n",
    "ax[1].set_title('Counts of species images downloaded (where number < 100)')\n",
    "ax[1].set_xlabel('Number of images collected')\n",
    "ax[1].set_ylabel('Counts')\n",
    "\n",
    "plt.show()\n"
   ]
  },
  {
   "cell_type": "markdown",
   "metadata": {},
   "source": [
    "df = pd.read_csv('/bask/projects/v/vjgo8416-amber/data/gbif-species-trainer-AMI-fork/gbif_images/try_wrapper')"
   ]
  },
  {
   "cell_type": "code",
   "execution_count": null,
   "metadata": {},
   "outputs": [],
   "source": [
    "df = pd.read_csv('/bask/projects/v/vjgo8416-amber/data/gbif-species-trainer-AMI-fork/gbif_images/try_wrapper/data_statistics.csv')\n",
    "df.shape"
   ]
  },
  {
   "cell_type": "code",
   "execution_count": null,
   "metadata": {},
   "outputs": [],
   "source": [
    "# create a histogram of the counts\n",
    "import matplotlib.pyplot as plt\n",
    "\n",
    "fig, ax = plt.subplots(1, 2, figsize=(15, 3))\n",
    "\n",
    "ax[0].hist(df['image_count'], bins=20)\n",
    "ax[0].set_title('Counts of species images downloaded (' + str(df.shape[0]) + ' species total)')\n",
    "ax[0].set_xlabel('Number of images collected')\n",
    "ax[0].set_ylabel('Counts')\n",
    "\n",
    "\n",
    "ax[1].hist(df.loc[df['image_count'] < 100, 'image_count'], bins=20)\n",
    "ax[1].set_title('Counts of species images downloaded (where number < 100)')\n",
    "ax[1].set_xlabel('Number of images collected')\n",
    "ax[1].set_ylabel('Counts')\n",
    "\n",
    "plt.show()"
   ]
  },
  {
   "cell_type": "code",
   "execution_count": null,
   "metadata": {},
   "outputs": [],
   "source": [
    "df = pd.read_csv('/bask/projects/v/vjgo8416-amber/projects/on_device_classifier/02_model_training/pytorch/myfile.csv')\n",
    "df.head()"
   ]
  },
  {
   "cell_type": "code",
   "execution_count": null,
   "metadata": {},
   "outputs": [],
   "source": [
    "import matplotlib.pyplot as plt\n",
    "import numpy as np\n",
    "\n",
    "\n",
    "acc_type = (\"Top 10\", \"Top 3\", \"Top 1\")\n",
    "accuracies = {\n",
    "    'TF Lite': (sum(df['TFLite_top10'])/df.shape[0] * 100, sum(df['TFLite_top3'])/df.shape[0] * 100, sum(df['TFLite_top1'])/df.shape[0] * 100),\n",
    "    'Pytorch': (sum(df['Pytorch_top10'])/df.shape[0] * 100, sum(df['Pytorch_top3'])/df.shape[0] * 100, sum(df['Pytorch_top1'])/df.shape[0] * 100),\n",
    "}\n",
    "\n",
    "x = np.arange(len(acc_type))  # the label locations\n",
    "width = 0.25  # the width of the bars\n",
    "multiplier = 0\n",
    "\n",
    "fig, ax = plt.subplots(layout='constrained')\n",
    "\n",
    "for attribute, measurement in accuracies.items():\n",
    "    print_meas = [round(x, 2) for x in measurement]\n",
    "    offset = width * multiplier\n",
    "    rects = ax.bar(x + offset, print_meas, width, label=attribute)\n",
    "    ax.bar_label(rects, padding=3)\n",
    "    multiplier += 1\n",
    "\n",
    "ax.set_ylabel('Accuracy')\n",
    "ax.set_xlabel('Accuracy Type')\n",
    "ax.set_title('Accuracy of Species Classification Models')\n",
    "ax.set_xticks([x + 0.125 for x in list(range(0, len(acc_type)))], acc_type)\n",
    "ax.legend(loc='upper left', ncols=3)\n",
    "ax.set_ylim(0, 100)\n",
    "\n",
    "plt.show()"
   ]
  },
  {
   "cell_type": "code",
   "execution_count": null,
   "metadata": {},
   "outputs": [],
   "source": [
    "def calc_acc(true_col, pred_col):\n",
    "    temp = [1 if df[true_col][i] == df[pred_col][i] else 0 for i in range(df.shape[0])] \n",
    "    temp = sum(temp)/df.shape[0] * 100\n",
    "    return(temp)"
   ]
  },
  {
   "cell_type": "code",
   "execution_count": null,
   "metadata": {},
   "outputs": [],
   "source": [
    "acc_type = (\"Species\", \"Genus\", \"Family\")\n",
    "\n",
    "accuracies = {\n",
    "    'TF Lite': (calc_acc('True_label', 'TFLite_prediction'), calc_acc('True_genus', 'TFLite_genus'), calc_acc('True_family', 'TFLite_family')),\n",
    "    'Pytorch': (calc_acc('True_label', 'Pytorch_prediction'), calc_acc('True_genus', 'Pytorch_genus'), calc_acc('True_family', 'Pytorch_family')),\n",
    "}\n",
    "\n",
    "x = np.arange(len(acc_type))  # the label locations\n",
    "width = 0.25  # the width of the bars\n",
    "multiplier = 0\n",
    "\n",
    "fig, ax = plt.subplots(layout='constrained')\n",
    "\n",
    "for attribute, measurement in accuracies.items():\n",
    "    print_meas = [round(x, 2) for x in measurement]\n",
    "    offset = width * multiplier\n",
    "    rects = ax.bar(x + offset, print_meas, width, label=attribute)\n",
    "    ax.bar_label(rects, padding=3)\n",
    "    multiplier += 1\n",
    "\n",
    "ax.set_ylabel('Accuracy (%)')\n",
    "ax.set_xlabel('Taxonomic Level')\n",
    "ax.set_title('Accuracy of Classification at Taxonomic Levels')\n",
    "ax.set_xticks([x + 0.125 for x in list(range(0, len(acc_type)))], acc_type)\n",
    "ax.legend(loc='upper left', ncols=3)\n",
    "ax.set_ylim(0, 100)\n",
    "\n",
    "plt.show()"
   ]
  },
  {
   "cell_type": "code",
   "execution_count": null,
   "metadata": {},
   "outputs": [],
   "source": [
    "df.loc[df['True_label_index'] == 0, ]"
   ]
  },
  {
   "cell_type": "code",
   "execution_count": null,
   "metadata": {},
   "outputs": [],
   "source": [
    "df3 = pd.crosstab(df[\"TFLite_prediction\"], df[\"True_label\"], dropna=True, normalize=\"index\")\n",
    "df3 = df3.fillna(0)\n",
    "\n",
    "\n",
    "# Force the df to be square\n",
    "i = list(set(list(df[\"TFLite_prediction\"]) + list(df[\"True_label\"])))\n",
    "df3 = df3.reindex(index=i, columns=i, fill_value=0)\n",
    "\n",
    "df3.head()"
   ]
  },
  {
   "cell_type": "code",
   "execution_count": null,
   "metadata": {},
   "outputs": [],
   "source": [
    "import operator\n",
    "\n",
    "fam_dict = pd.Series(list(df.True_family) + list(df.True_family), index=list(df.True_label)+list(df.TFLite_prediction)).to_dict()\n",
    "gen_dict = pd.Series(list(df.True_genus) + list(df.True_genus),index=list(df.True_label)+list(df.TFLite_prediction)).to_dict()"
   ]
  },
  {
   "cell_type": "code",
   "execution_count": null,
   "metadata": {},
   "outputs": [],
   "source": [
    "fam_col = sns.color_palette(\"husl\", len(set(fam_dict.values())))\n",
    "gen_col = sns.color_palette(\"husl\", len(set(gen_dict.values())))\n",
    "\n",
    "fam_col = dict(zip(list(set(fam_dict.values())), [tuple(int(c*255) for c in cs) for cs in fam_col]))\n",
    "gen_col = dict(zip(list(set(gen_dict.values())), [tuple(int(c*255) for c in cs) for cs in gen_col]))\n",
    "\n",
    "# #colors = [tuple(t / 255 for t in x) for x in rgb]\n",
    "\n",
    "fam_col = [fam_col[fam_dict[x]] for x in list(df3.columns)]\n",
    "gen_col = [gen_col[gen_dict[x]] for x in list(df3.columns)]\n",
    "\n",
    "fam_col = [tuple(round(t / 255, 2) for t in x) for x in fam_col]\n",
    "gen_col = [tuple(round(t / 255, 2) for t in x) for x in gen_col]\n",
    "\n",
    "fam_col[0:10]"
   ]
  },
  {
   "cell_type": "code",
   "execution_count": null,
   "metadata": {},
   "outputs": [],
   "source": [
    "from scipy.cluster.hierarchy import linkage\n",
    "import matplotlib\n",
    "\n",
    "link = linkage(df3.transpose()) \n",
    "\n",
    "genus_colors = pd.DataFrame(data={'genus': gen_col }) \n",
    "family_colors = pd.DataFrame(data={'family': fam_col }) \n",
    "\n",
    "sns.set(font_scale=0.25)\n",
    "\n",
    "sns.clustermap(df3, row_linkage=link, col_linkage=link, row_colors=genus_colors, col_colors=family_colors, \n",
    "               norm=matplotlib.colors.LogNorm(), figsize=(20,15))\n",
    "\n",
    "\n",
    "plt.show()"
   ]
  },
  {
   "cell_type": "code",
   "execution_count": null,
   "metadata": {},
   "outputs": [],
   "source": []
  }
 ],
 "metadata": {
  "kernelspec": {
   "display_name": "kg_conda_env2 (Conda)",
   "language": "python",
   "name": "sys_kg_conda_env2"
  },
  "language_info": {
   "codemirror_mode": {
    "name": "ipython",
    "version": 3
   },
   "file_extension": ".py",
   "mimetype": "text/x-python",
   "name": "python",
   "nbconvert_exporter": "python",
   "pygments_lexer": "ipython3",
   "version": "3.9.17"
  }
 },
 "nbformat": 4,
 "nbformat_minor": 4
}
