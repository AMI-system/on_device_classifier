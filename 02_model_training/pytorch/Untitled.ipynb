{
 "cells": [
  {
   "cell_type": "code",
   "execution_count": null,
   "id": "2ff6d9b4-a29e-46ca-88c5-de9410173e89",
   "metadata": {},
   "outputs": [],
   "source": [
    "python 01_create_dataset_split.py \\\n",
    "    --data_dir /bask/homes/f/fspo1218/amber/data/binary_moth_training/gbif_crops/ \\\n",
    "    --write_dir /bask/homes/f/fspo1218/amber/data/binary_moth_training/gbif_crop_ready/ \\\n",
    "    --train_ratio 0.75 \\\n",
    "    --val_ratio 0.10 \\\n",
    "    --test_ratio 0.15 \\\n",
    "    --filename 01_uk_macro_data"
   ]
  },
  {
   "cell_type": "code",
   "execution_count": null,
   "id": "ef56c6ac-b502-4957-bc66-a5212c755ddc",
   "metadata": {},
   "outputs": [],
   "source": [
    "python 02_calculate_taxa_statistics.py \\\n",
    "    --species_list ../../01_data_download/output_data/keys/uksi-macro_data.csv \\\n",
    "    --write_dir /bask/homes/f/fspo1218/amber/data/binary_moth_training/gbif_crop_ready/ \\\n",
    "    --numeric_labels_filename 01_uk_macro_data_numeric_labels \\\n",
    "    --taxon_hierarchy_filename 01_uk_macro_data_taxon_hierarchy \\\n",
    "    --training_points_filename 01_uk_macro_data_count_training_points \\\n",
    "    --train_split_file ../../../../data/gbif_macro_data/01_uk_macro_data-train-split.csv"
   ]
  }
 ],
 "metadata": {
  "kernelspec": {
   "display_name": "moth_detector_env (Conda)",
   "language": "python",
   "name": "sys_moth_detector_env"
  },
  "language_info": {
   "codemirror_mode": {
    "name": "ipython",
    "version": 3
   },
   "file_extension": ".py",
   "mimetype": "text/x-python",
   "name": "python",
   "nbconvert_exporter": "python",
   "pygments_lexer": "ipython3",
   "version": "3.9.18"
  }
 },
 "nbformat": 4,
 "nbformat_minor": 5
}
